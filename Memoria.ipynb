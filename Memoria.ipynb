{
 "cells": [
  {
   "cell_type": "markdown",
   "metadata": {},
   "source": [
    "# Memoria"
   ]
  },
  {
   "cell_type": "markdown",
   "metadata": {},
   "source": [
    "He enfocado mi EDA sobre el análisis de Airbnb en diferentes ciudades (New York, Seattle, Barcelona y Copenhague).\n",
    "\n",
    "Para ello, me he formulado diversas hipótesis, la principal era:\n",
    "> De las 4 ciudades elegidas, New York es la que el coste de vida es más elevado\n",
    "> \n",
    ">  ¿Lo será también en Airbnb?\n",
    "\n",
    "\n",
    "Para encontrar la información he mirado en diversas páginas, y finalmente todo los datos los he cogido de la página: http://insideairbnb.com"
   ]
  },
  {
   "cell_type": "markdown",
   "metadata": {},
   "source": [
    "# Pasos realizados\n",
    "\n",
    "Primero he empezado estudiando los datos y viendo en qué podía trabajar, y la información útil y más interesante que podía sacar de ellos.\n",
    "\n",
    "He eliminado las columnas que no iba a necesitar.\n",
    "\n",
    "Y me he puesto a rezlizar el análisis para poder llevar a cabo mi principal hipótesis.\n",
    "\n",
    "Después de esta, me he realizado muchísimas preguntas más, y he ido analizando y sacando toda la información disponible, alguna con más relevancia que otras.\n",
    "\n",
    "Y finalmente toda la información con más peso es la que he plasmado en la presentación.\n",
    "\n"
   ]
  },
  {
   "cell_type": "markdown",
   "metadata": {},
   "source": []
  },
  {
   "cell_type": "code",
   "execution_count": null,
   "metadata": {},
   "outputs": [],
   "source": []
  },
  {
   "cell_type": "code",
   "execution_count": null,
   "metadata": {},
   "outputs": [],
   "source": []
  },
  {
   "cell_type": "code",
   "execution_count": null,
   "metadata": {},
   "outputs": [],
   "source": []
  },
  {
   "cell_type": "code",
   "execution_count": null,
   "metadata": {},
   "outputs": [],
   "source": []
  },
  {
   "cell_type": "code",
   "execution_count": null,
   "metadata": {},
   "outputs": [],
   "source": [
    "\n"
   ]
  }
 ],
 "metadata": {
  "interpreter": {
   "hash": "bcb3178e2d98bd296a33f5250fb8415fb819b4120cb1be2ad4dc3ede1b09cf30"
  },
  "kernelspec": {
   "display_name": "Python 3.9.7 ('base')",
   "language": "python",
   "name": "python3"
  },
  "language_info": {
   "name": "python",
   "version": "3.9.7"
  },
  "orig_nbformat": 4
 },
 "nbformat": 4,
 "nbformat_minor": 2
}
