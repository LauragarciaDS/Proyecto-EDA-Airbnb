{
 "cells": [
  {
   "cell_type": "markdown",
   "metadata": {},
   "source": [
    "# Memoria"
   ]
  },
  {
   "cell_type": "markdown",
   "metadata": {},
   "source": [
    "He enfocado mi EDA sobre el análisis de Airbnb en diferentes ciudades (New York, Seattle, Barcelona y Copenhague).\n",
    "\n",
    "Para ello, me he formulado diversas hipótesis, la principal era:\n",
    "> De las 4 ciudades elegidas, New York es la que el coste de vida es más elevado,\n",
    "> \n",
    ">  ¿Lo será también en Airbnb?\n",
    "\n",
    "\n",
    "Para encontrar la información he mirado en diversas páginas, y finalmente todo los datos los he cogido de la página: http://insideairbnb.com"
   ]
  },
  {
   "cell_type": "markdown",
   "metadata": {},
   "source": [
    "# Pasos realizados\n",
    "\n",
    "Primero he empezado estudiando los datos y viendo en qué podía trabajar, y la información útil y más interesante que podía sacar de ellos.\n",
    "\n",
    "He eliminado las columnas que no iba a necesitar.\n",
    "\n",
    "Y me he puesto a rezlizar el análisis para poder llevar a cabo mi principal hipótesis.\n",
    "\n",
    "Después de esta, me he realizado muchísimas preguntas más, y he ido analizando y sacando toda la información disponible, alguna con más relevancia que otras.\n",
    "\n",
    "Y finalmente toda la información con más peso es la que he plasmado en la presentación.\n",
    "\n"
   ]
  },
  {
   "cell_type": "markdown",
   "metadata": {},
   "source": [
    "# Procedimiento paso por\n",
    "\n",
    "Aquí explicaré paso a paso que he seguido, mi idea inicial era un poco más ambiciosa, y me hubiera gustado tener muchos más datos y más información de la que disponia para hacer el análisis, para así poder sacar conclusiones y enfoques mucho más interesante.\n",
    "Dentro de main.py y del resto de notebooks, se puede ver los pasos que he seguido, y con las celdas comentadas para poder saber qué hago en cada momento.\n",
    "\n",
    "Inicialmente he mirado toda la información interesante que podía sacar, y analizado el dataframe con describe() y info(), he eliminado las columnas que no iba a necesitar, he mirado si habían valores NaN y la manera de solventarlos, he analizado qué datos tenía para proceder a entenderlos, sacar las visualizaciones y puntos de interés. \n",
    "\n",
    "Seguidamente me he enfocado en conocer cómo estaban distribuidos los Airbnb por barrios, y posteriormente por distrito saber qué zonas son las que hay más cantidad y en las que menos.\n",
    "\n",
    "También qué tipo de alojamiento dependiendo por zona eran más usuales, y saber cual es el que predomina más y el que menos.\n",
    "\n",
    "Después he analizado los precios, los mínimos y máximos, la media y los outliers para poder entenderlo, conocerlos y sacar conclusiones.\n",
    "\n",
    "Posteriormente me he centrado en conocer los tipo de alojamientos que hay, los precios por estos, qué distritos las que hay más, así como el precio por alojamiento y por distrito.\n",
    "\n",
    "También he analizado los host_id y host_name, pero no me ha parecido que pudiera aportar nada interesenta, además de la disponibilidad de los alojamientos, pero no es una información real puesto que a la hora de coger los datos, es posible que ya hayan apartamentos reservados y la disponibilidad baje, la he analizado para ver si encontraba algo interesante, pero realmente no, y como no dispongo de los apartamentos que ya están reservados, he preferido no usarlo. \n",
    "\n",
    "Seguidamente he analizado las reseñas, y me hubiera gustado sacarle más provecho, e intentar a ver si podía de alguna manera con estas saber con qué frecuencia se alquilan los alojamientos, pero, realmente por una parte la reseña sí implica que ha sido alquilado, pero no todo el mundo pone su reseña, por lo tanto, usarlo como factor para saber qué alojamientos son los más frecuentados por los usuarios no me ha parecido que vaya a dar una información fiable.\n",
    "\n",
    "Y finalmente, he usado Folium para poder plasmar con las coordenadas las ciudades, y poder ayudar la presentación para poner en contexto, y que se pudiera ver los alojamientos Arbnb por distrito y barrio.\n",
    "\n",
    "\n",
    "Y así con todos los datasets para poner realizar mi hipótesis y la comparativa con el resto de ciudades.\n",
    "\n",
    "Me ha costado sacar los datos, puesto que casi todas las colummnas eran categóricas, y poder trabajar y sacar la información es más complejo, aún así he podido hacerlo en todo el dataset y he extraido la información, debido a ello, casi todos los gráficos son de barras, a excepción de alguno, pero hay muchos gráficos que finalmente no he puesto en la presentación porque la información no era interesante, aún así, sí están dentro de los notebooks y se pueden ver.\n",
    "\n",
    "\n",
    "Por último, he usado **Streamlit** para hacer la presentación, he pasado todas las gráficas allí, y he usado la información para poder plasmarlo en la app creada, llamada app_EDA.py.\n",
    "\n",
    "# ESTRUCTURA CARPETAS\n",
    "\n",
    "**src/:**\n",
    "+ main.py\n",
    "+ app_EDA.py\n",
    "+ Memoria.ipynb\n",
    "\n",
    "**data**\n",
    "los 4 datasets pertenecientes a cada ciudad.\n",
    **img**
    Las imágenes de las visualizaciones
    "\n",
    "\n",
    "+ **Barcelona**\n",
    "+  **Seattle** \n",
    "+  **Copenhague**\n",
    "+  **New York**\n",
    "Cada una de ellas contiene el csv y el geojson, cada uno por ciudad.\n",
    "\n"
   ]
  }
 ],
 "metadata": {
  "interpreter": {
   "hash": "bcb3178e2d98bd296a33f5250fb8415fb819b4120cb1be2ad4dc3ede1b09cf30"
  },
  "kernelspec": {
   "display_name": "Python 3.9.7 ('base')",
   "language": "python",
   "name": "python3"
  },
  "language_info": {
   "name": "python",
   "version": "3.9.7"
  },
  "orig_nbformat": 4
 },
 "nbformat": 4,
 "nbformat_minor": 2
}
